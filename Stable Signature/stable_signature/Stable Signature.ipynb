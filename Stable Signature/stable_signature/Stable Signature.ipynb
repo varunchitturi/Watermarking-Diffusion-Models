{
 "cells": [
  {
   "cell_type": "markdown",
   "id": "48d84e43a6bb326",
   "metadata": {},
   "source": [
    "# Verification of Stable Signature Implementation"
   ]
  },
  {
   "cell_type": "code",
   "execution_count": 1,
   "id": "initial_id",
   "metadata": {
    "ExecuteTime": {
     "end_time": "2024-09-21T17:35:49.378969Z",
     "start_time": "2024-09-21T17:35:49.254520Z"
    }
   },
   "outputs": [],
   "source": [
    "key = \"111010110101000001010111010011010100010000100111\""
   ]
  },
  {
   "cell_type": "code",
   "execution_count": 2,
   "id": "32f4e158fa67e4b2",
   "metadata": {
    "ExecuteTime": {
     "end_time": "2024-09-21T17:34:11.790745Z",
     "start_time": "2024-09-21T17:34:11.789319Z"
    }
   },
   "outputs": [],
   "source": [
    "from PIL import Image\n",
    "import torch\n",
    "import torchvision.transforms as transforms\n",
    "\n",
    "def msg2str(msg):\n",
    "    return \"\".join([('1' if el else '0') for el in msg])\n",
    "\n",
    "def str2msg(str):\n",
    "    return [True if el=='1' else False for el in str]\n",
    "\n",
    "msg_extractor = torch.jit.load(\"./models/decoder_whit.pth\").to(\"cuda\")\n",
    "transform_imnet = transforms.Compose([\n",
    "    transforms.ToTensor(),\n",
    "    transforms.Normalize(mean=[0.485, 0.456, 0.406],std=[0.229, 0.224, 0.225])\n",
    "])"
   ]
  },
  {
   "cell_type": "code",
   "execution_count": 3,
   "id": "10385a83280bd56f",
   "metadata": {
    "ExecuteTime": {
     "end_time": "2024-09-21T17:34:11.792732Z",
     "start_time": "2024-09-21T17:34:11.791453Z"
    }
   },
   "outputs": [
    {
     "name": "stdout",
     "output_type": "stream",
     "text": [
      "Extracted message:  111010110101000001010111010011010100010000100111\n",
      "Original message:   111010110101000001010111010011010100010000100111\n",
      "0 out of 48 bits were mismatched\n"
     ]
    }
   ],
   "source": [
    "img = Image.open(\"./output/imgs/000_val_w.png\")\n",
    "img = transform_imnet(img).unsqueeze(0).to(\"cuda\")\n",
    "msg = msg_extractor(img) # b c h w -> b k\n",
    "bool_msg = (msg>0).squeeze().cpu().numpy().tolist()\n",
    "print(\"Extracted message: \", msg2str(bool_msg))\n",
    "print(\"Original message:  \", key)\n",
    "mismatch_bits = 0\n",
    "for i in range(len(bool_msg)):\n",
    "    if bool_msg[i] != bool(int(key[i])):\n",
    "        mismatch_bits += 1\n",
    "print(f\"{mismatch_bits} out of {len(bool_msg)} bits were mismatched\")"
   ]
  },
  {
   "cell_type": "code",
   "execution_count": null,
   "id": "41357456",
   "metadata": {},
   "outputs": [],
   "source": []
  }
 ],
 "metadata": {
  "kernelspec": {
   "display_name": "Python 3",
   "language": "python",
   "name": "python3"
  },
  "language_info": {
   "codemirror_mode": {
    "name": "ipython",
    "version": 3
   },
   "file_extension": ".py",
   "mimetype": "text/x-python",
   "name": "python",
   "nbconvert_exporter": "python",
   "pygments_lexer": "ipython3",
   "version": "3.10.12"
  }
 },
 "nbformat": 4,
 "nbformat_minor": 5
}
